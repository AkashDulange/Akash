{
  "nbformat": 4,
  "nbformat_minor": 0,
  "metadata": {
    "colab": {
      "provenance": [],
      "authorship_tag": "ABX9TyPAE3W6wg9YL6bp3WsCTPhZ",
      "include_colab_link": true
    },
    "kernelspec": {
      "name": "python3",
      "display_name": "Python 3"
    },
    "language_info": {
      "name": "python"
    }
  },
  "cells": [
    {
      "cell_type": "markdown",
      "metadata": {
        "id": "view-in-github",
        "colab_type": "text"
      },
      "source": [
        "<a href=\"https://colab.research.google.com/github/AkashDulange/Akash/blob/main/NumPy.ipynb\" target=\"_parent\"><img src=\"https://colab.research.google.com/assets/colab-badge.svg\" alt=\"Open In Colab\"/></a>"
      ]
    },
    {
      "cell_type": "code",
      "execution_count": null,
      "metadata": {
        "id": "djpphaQgHbGI"
      },
      "outputs": [],
      "source": [
        "import numpy as np"
      ]
    },
    {
      "cell_type": "code",
      "source": [
        "a=np.array([1,2,3], dtype=np.int32)\n",
        "print(a)"
      ],
      "metadata": {
        "colab": {
          "base_uri": "https://localhost:8080/"
        },
        "id": "5crt7s8qIFBS",
        "outputId": "b30c7337-1dc8-4fa6-c715-d1cff8f79c39"
      },
      "execution_count": null,
      "outputs": [
        {
          "output_type": "stream",
          "name": "stdout",
          "text": [
            "[1 2 3]\n"
          ]
        }
      ]
    },
    {
      "cell_type": "code",
      "source": [
        "b=np.array([[7.2,8.3,9.3],[3.8,2.5,3.7]])\n",
        "print(b)\n"
      ],
      "metadata": {
        "colab": {
          "base_uri": "https://localhost:8080/"
        },
        "id": "GWatUO4OIZKm",
        "outputId": "9266e0b7-b532-4347-80d7-5433370b1751"
      },
      "execution_count": null,
      "outputs": [
        {
          "output_type": "stream",
          "name": "stdout",
          "text": [
            "[[7.2 8.3 9.3]\n",
            " [3.8 2.5 3.7]]\n"
          ]
        }
      ]
    },
    {
      "cell_type": "code",
      "source": [
        "#Get Dimension\n",
        "b.ndim\n",
        "a.ndim"
      ],
      "metadata": {
        "colab": {
          "base_uri": "https://localhost:8080/"
        },
        "id": "LZpDd0BpP6X1",
        "outputId": "173d4c2c-9a79-4681-834e-1fb7a9696a7e"
      },
      "execution_count": null,
      "outputs": [
        {
          "output_type": "execute_result",
          "data": {
            "text/plain": [
              "1"
            ]
          },
          "metadata": {},
          "execution_count": 15
        }
      ]
    },
    {
      "cell_type": "code",
      "source": [
        "#Get Type\n",
        "a.dtype\n",
        "# b.dtype"
      ],
      "metadata": {
        "colab": {
          "base_uri": "https://localhost:8080/"
        },
        "id": "_gWquyAhQOAO",
        "outputId": "fc12dce6-a78e-4115-8bd2-3aa3372fc1b1"
      },
      "execution_count": null,
      "outputs": [
        {
          "output_type": "execute_result",
          "data": {
            "text/plain": [
              "dtype('int32')"
            ]
          },
          "metadata": {},
          "execution_count": 34
        }
      ]
    },
    {
      "cell_type": "code",
      "source": [
        "#Get Size\n",
        "a.itemsize"
      ],
      "metadata": {
        "colab": {
          "base_uri": "https://localhost:8080/"
        },
        "id": "-0uziygxQVGp",
        "outputId": "97a25b77-5b1a-46de-9979-8b93f0498e57"
      },
      "execution_count": null,
      "outputs": [
        {
          "output_type": "execute_result",
          "data": {
            "text/plain": [
              "4"
            ]
          },
          "metadata": {},
          "execution_count": 35
        }
      ]
    },
    {
      "cell_type": "code",
      "source": [
        "#Get Size\n",
        "a.nbytes"
      ],
      "metadata": {
        "colab": {
          "base_uri": "https://localhost:8080/"
        },
        "id": "NAbZ-7gLS3Vx",
        "outputId": "741db66a-0ad0-4109-a096-ce1b958a79c7"
      },
      "execution_count": null,
      "outputs": [
        {
          "output_type": "execute_result",
          "data": {
            "text/plain": [
              "24"
            ]
          },
          "metadata": {},
          "execution_count": 26
        }
      ]
    },
    {
      "cell_type": "code",
      "source": [
        "c=np.arange(1,25).reshape(4,6)\n",
        "print(c)\n",
        "print()\n",
        "d=np.arange(50,74).reshape(4,6)\n",
        "print(d)"
      ],
      "metadata": {
        "colab": {
          "base_uri": "https://localhost:8080/"
        },
        "id": "Fs3xQ5b1TlMi",
        "outputId": "6b3366e0-278b-415b-f271-868f039e2e5d"
      },
      "execution_count": null,
      "outputs": [
        {
          "output_type": "stream",
          "name": "stdout",
          "text": [
            "[[ 1  2  3  4  5  6]\n",
            " [ 7  8  9 10 11 12]\n",
            " [13 14 15 16 17 18]\n",
            " [19 20 21 22 23 24]]\n",
            "\n",
            "[[50 51 52 53 54 55]\n",
            " [56 57 58 59 60 61]\n",
            " [62 63 64 65 66 67]\n",
            " [68 69 70 71 72 73]]\n"
          ]
        }
      ]
    },
    {
      "cell_type": "code",
      "source": [
        "#Get a specific element\n",
        "#c[1,5]\n",
        "c[3,3]"
      ],
      "metadata": {
        "colab": {
          "base_uri": "https://localhost:8080/"
        },
        "id": "C2huqIMiT-44",
        "outputId": "6a986174-b4e3-4bae-9ac9-92e1693248a7"
      },
      "execution_count": null,
      "outputs": [
        {
          "output_type": "execute_result",
          "data": {
            "text/plain": [
              "22"
            ]
          },
          "metadata": {},
          "execution_count": 51
        }
      ]
    },
    {
      "cell_type": "code",
      "source": [
        "#Get a specific row\n",
        "c[3,:]"
      ],
      "metadata": {
        "colab": {
          "base_uri": "https://localhost:8080/"
        },
        "id": "nlsBqDG1WeNN",
        "outputId": "8c2c5218-907d-49fe-b2eb-babadcb09e6c"
      },
      "execution_count": null,
      "outputs": [
        {
          "output_type": "execute_result",
          "data": {
            "text/plain": [
              "array([19, 20, 21, 22, 23, 24])"
            ]
          },
          "metadata": {},
          "execution_count": 52
        }
      ]
    },
    {
      "cell_type": "code",
      "source": [
        "#Get a specific column\n",
        "c[:,2]"
      ],
      "metadata": {
        "colab": {
          "base_uri": "https://localhost:8080/"
        },
        "id": "48MMF0QHW0In",
        "outputId": "7489594f-ad06-48bd-d433-64d15d57fc5e"
      },
      "execution_count": null,
      "outputs": [
        {
          "output_type": "execute_result",
          "data": {
            "text/plain": [
              "array([ 3,  9, 15, 21])"
            ]
          },
          "metadata": {},
          "execution_count": 53
        }
      ]
    },
    {
      "cell_type": "code",
      "source": [
        "#Addition of 2 arrays\n",
        "sum=c+d\n",
        "print(sum)\n"
      ],
      "metadata": {
        "colab": {
          "base_uri": "https://localhost:8080/"
        },
        "id": "yR1596TeXotz",
        "outputId": "b61231fd-79a1-41a4-93d8-f265b17ee56e"
      },
      "execution_count": null,
      "outputs": [
        {
          "output_type": "stream",
          "name": "stdout",
          "text": [
            "[[51 53 55 57 59 61]\n",
            " [63 65 67 69 71 73]\n",
            " [75 77 79 81 83 85]\n",
            " [87 89 91 93 95 97]]\n"
          ]
        }
      ]
    },
    {
      "cell_type": "code",
      "source": [
        "#Substraction of 2 arrays\n",
        "sub=d-c\n",
        "print(sub)"
      ],
      "metadata": {
        "colab": {
          "base_uri": "https://localhost:8080/"
        },
        "id": "UJL_rLQ5X5RO",
        "outputId": "92e59fdd-455c-418e-a301-ad36fde0c861"
      },
      "execution_count": null,
      "outputs": [
        {
          "output_type": "stream",
          "name": "stdout",
          "text": [
            "[[49 49 49 49 49 49]\n",
            " [49 49 49 49 49 49]\n",
            " [49 49 49 49 49 49]\n",
            " [49 49 49 49 49 49]]\n"
          ]
        }
      ]
    },
    {
      "cell_type": "code",
      "source": [
        "#Multiplication of 2 arrays(ElementWise)\n",
        "mul=c * d\n",
        "print(mul)"
      ],
      "metadata": {
        "colab": {
          "base_uri": "https://localhost:8080/"
        },
        "id": "sHb3Ls-SZjW4",
        "outputId": "9c2258b6-cf0c-4ed0-970e-f72634f779c6"
      },
      "execution_count": null,
      "outputs": [
        {
          "output_type": "stream",
          "name": "stdout",
          "text": [
            "[[  50  102  156  212  270  330]\n",
            " [ 392  456  522  590  660  732]\n",
            " [ 806  882  960 1040 1122 1206]\n",
            " [1292 1380 1470 1562 1656 1752]]\n"
          ]
        }
      ]
    },
    {
      "cell_type": "code",
      "source": [
        "#Multiplication of 2 arrays(matrix prod)\n",
        "a1=np.arange(1,26).reshape(5,5)\n",
        "print(a1)\n",
        "a2=np.arange(26,51).reshape(5,5)\n",
        "print(a2)\n",
        "a1@a2\n",
        "\n"
      ],
      "metadata": {
        "colab": {
          "base_uri": "https://localhost:8080/"
        },
        "id": "MTsz1Yz4OZho",
        "outputId": "91c6bb78-2aea-477b-f33c-c06b6ab8df9b"
      },
      "execution_count": null,
      "outputs": [
        {
          "output_type": "stream",
          "name": "stdout",
          "text": [
            "[[ 1  2  3  4  5]\n",
            " [ 6  7  8  9 10]\n",
            " [11 12 13 14 15]\n",
            " [16 17 18 19 20]\n",
            " [21 22 23 24 25]]\n",
            "[[26 27 28 29 30]\n",
            " [31 32 33 34 35]\n",
            " [36 37 38 39 40]\n",
            " [41 42 43 44 45]\n",
            " [46 47 48 49 50]]\n"
          ]
        },
        {
          "output_type": "execute_result",
          "data": {
            "text/plain": [
              "array([[ 590,  605,  620,  635,  650],\n",
              "       [1490, 1530, 1570, 1610, 1650],\n",
              "       [2390, 2455, 2520, 2585, 2650],\n",
              "       [3290, 3380, 3470, 3560, 3650],\n",
              "       [4190, 4305, 4420, 4535, 4650]])"
            ]
          },
          "metadata": {},
          "execution_count": 16
        }
      ]
    },
    {
      "cell_type": "code",
      "source": [
        "a1.dot(a2)"
      ],
      "metadata": {
        "colab": {
          "base_uri": "https://localhost:8080/"
        },
        "id": "qdkwkWOKQ2VJ",
        "outputId": "c71716b1-c7ce-493a-8cf3-e65431c342f6"
      },
      "execution_count": null,
      "outputs": [
        {
          "output_type": "execute_result",
          "data": {
            "text/plain": [
              "array([[ 590,  605,  620,  635,  650],\n",
              "       [1490, 1530, 1570, 1610, 1650],\n",
              "       [2390, 2455, 2520, 2585, 2650],\n",
              "       [3290, 3380, 3470, 3560, 3650],\n",
              "       [4190, 4305, 4420, 4535, 4650]])"
            ]
          },
          "metadata": {},
          "execution_count": 17
        }
      ]
    },
    {
      "cell_type": "code",
      "source": [
        "#3D Array\n",
        "arr = np.array([[[1,2,3],[4,5,6]],[[1,2,3],[4,5,6]]])\n",
        "print(arr)"
      ],
      "metadata": {
        "colab": {
          "base_uri": "https://localhost:8080/"
        },
        "id": "C8nKT3jvblsR",
        "outputId": "1170e843-b733-40bc-e1d9-ea5a7b386c83"
      },
      "execution_count": null,
      "outputs": [
        {
          "output_type": "stream",
          "name": "stdout",
          "text": [
            "[[[1 2 3]\n",
            "  [4 5 6]]\n",
            "\n",
            " [[1 2 3]\n",
            "  [4 5 6]]]\n"
          ]
        }
      ]
    },
    {
      "cell_type": "code",
      "source": [
        "#Creating an array full of Zeros\n",
        "np.zeros((3,4))"
      ],
      "metadata": {
        "colab": {
          "base_uri": "https://localhost:8080/"
        },
        "id": "xI8XL3weNCZp",
        "outputId": "594d97dd-aadd-49c0-8220-f9d88eeb38e8"
      },
      "execution_count": null,
      "outputs": [
        {
          "output_type": "execute_result",
          "data": {
            "text/plain": [
              "array([[0., 0., 0., 0.],\n",
              "       [0., 0., 0., 0.],\n",
              "       [0., 0., 0., 0.]])"
            ]
          },
          "metadata": {},
          "execution_count": 3
        }
      ]
    },
    {
      "cell_type": "code",
      "source": [
        "#Creating an array full of ones\n",
        "np.ones((2,3,4),dtype=np.int16)"
      ],
      "metadata": {
        "colab": {
          "base_uri": "https://localhost:8080/"
        },
        "id": "nSaSK5F6OC5V",
        "outputId": "04b6b3e3-19bc-4231-d299-d194fbbbae6d"
      },
      "execution_count": null,
      "outputs": [
        {
          "output_type": "execute_result",
          "data": {
            "text/plain": [
              "array([[[1, 1, 1, 1],\n",
              "        [1, 1, 1, 1],\n",
              "        [1, 1, 1, 1]],\n",
              "\n",
              "       [[1, 1, 1, 1],\n",
              "        [1, 1, 1, 1],\n",
              "        [1, 1, 1, 1]]], dtype=int16)"
            ]
          },
          "metadata": {},
          "execution_count": 4
        }
      ]
    },
    {
      "cell_type": "code",
      "source": [
        "#Unary Operations\n",
        "a=np.random.random((2,3))\n",
        "print(a)\n",
        "\n",
        "#Sum\n",
        "a.sum()\n",
        "#Maximum\n",
        "a.max()\n",
        "#Minimum\n",
        "a.min()"
      ],
      "metadata": {
        "colab": {
          "base_uri": "https://localhost:8080/"
        },
        "id": "l1my5VOnOQX4",
        "outputId": "b9e3d475-2a27-4085-ce00-210ab34527ed"
      },
      "execution_count": null,
      "outputs": [
        {
          "output_type": "stream",
          "name": "stdout",
          "text": [
            "[[0.46898264 0.14186025 0.8545178 ]\n",
            " [0.27083461 0.16552938 0.4575108 ]]\n"
          ]
        },
        {
          "output_type": "execute_result",
          "data": {
            "text/plain": [
              "0.1418602532794706"
            ]
          },
          "metadata": {},
          "execution_count": 29
        }
      ]
    },
    {
      "cell_type": "code",
      "source": [
        "#Universal Functions\n",
        "B=np.arange(3)\n",
        "print(B)\n",
        "\n",
        "np.exp(B)\n",
        "\n",
        "np.sqrt(B)\n",
        "\n",
        "C=np.array((2., -1., 4.))\n",
        "np.add(B,C)"
      ],
      "metadata": {
        "colab": {
          "base_uri": "https://localhost:8080/"
        },
        "id": "HU7zYIxOSRjQ",
        "outputId": "663e92c7-e156-47d3-e553-ab6bceedec3e"
      },
      "execution_count": null,
      "outputs": [
        {
          "output_type": "stream",
          "name": "stdout",
          "text": [
            "[0 1 2]\n"
          ]
        },
        {
          "output_type": "execute_result",
          "data": {
            "text/plain": [
              "array([2., 0., 6.])"
            ]
          },
          "metadata": {},
          "execution_count": 33
        }
      ]
    },
    {
      "cell_type": "code",
      "source": [],
      "metadata": {
        "colab": {
          "base_uri": "https://localhost:8080/"
        },
        "id": "GwYjQNtVTMa6",
        "outputId": "fb6efc2b-8b63-4ca5-88a2-99743613a718"
      },
      "execution_count": null,
      "outputs": [
        {
          "output_type": "stream",
          "name": "stdout",
          "text": [
            "[0.88287487 0.07944693 0.77755864 0.60369985 0.82235027]\n"
          ]
        }
      ]
    }
  ]
}